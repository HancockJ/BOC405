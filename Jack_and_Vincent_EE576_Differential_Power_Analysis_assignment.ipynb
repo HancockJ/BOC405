{
  "nbformat": 4,
  "nbformat_minor": 0,
  "metadata": {
    "colab": {
      "name": "Jack and Vincent EE576 Differential Power Analysis assignment.ipynb",
      "provenance": [],
      "collapsed_sections": [],
      "toc_visible": true,
      "include_colab_link": true
    },
    "kernelspec": {
      "name": "python3",
      "display_name": "Python 3"
    }
  },
  "cells": [
    {
      "cell_type": "markdown",
      "metadata": {
        "id": "view-in-github",
        "colab_type": "text"
      },
      "source": [
        "<a href=\"https://colab.research.google.com/github/HancockJ/BOC405/blob/master/Jack_and_Vincent_EE576_Differential_Power_Analysis_assignment.ipynb\" target=\"_parent\"><img src=\"https://colab.research.google.com/assets/colab-badge.svg\" alt=\"Open In Colab\"/></a>"
      ]
    },
    {
      "cell_type": "markdown",
      "metadata": {
        "id": "p1bxkJuEEH2T"
      },
      "source": [
        "Differential Power Analysis or DPA is a technique that exploits the dependency of the processed data on the power trace of the device to extract some secret information that would not be otherwise available. The goal of this problem is for you to develop the software needed to carry out a DPA attack. "
      ]
    },
    {
      "cell_type": "markdown",
      "metadata": {
        "id": "fP_QetZXEetH"
      },
      "source": [
        "## Problem 1 (5 points): Briefly explain the key steps of DPA\n",
        "\n"
      ]
    },
    {
      "cell_type": "markdown",
      "metadata": {
        "id": "DiW65mOHEorH"
      },
      "source": [
        "DPA stands for Differential Power Analysis and is a side channel attack that analyses the power consupmtion of electronics in order to obtain unauthorized information. There are 5 steps:\n",
        "\n",
        "1) Choose and intermediate value that depends on the data and the unknown key\n",
        "\n",
        "2) Measure the power traces when the device is encrypting some data\n",
        "\n",
        "3) Build a matrix of hypothetical/possible itermediate values for all possible keys and traces\n",
        "\n",
        "4) Use a power model to compute the matrix of hypothetical power consumption for all keys and traces\n",
        "\n",
        "5) Statistically determine which hypothetical keys best matches themeasured power at each individual time"
      ]
    },
    {
      "cell_type": "markdown",
      "metadata": {
        "id": "-SukPPAyEkFX"
      },
      "source": [
        "## Problem 2 (10 points): I/O Routines"
      ]
    },
    {
      "cell_type": "code",
      "metadata": {
        "id": "YkmHVll5w6uU",
        "colab": {
          "base_uri": "https://localhost:8080/"
        },
        "outputId": "d48b75ae-d038-4c0c-f9ec-348273edbdef"
      },
      "source": [
        "from google.colab import drive\n",
        "drive.mount('/content/drive')"
      ],
      "execution_count": null,
      "outputs": [
        {
          "output_type": "stream",
          "text": [
            "Drive already mounted at /content/drive; to attempt to forcibly remount, call drive.mount(\"/content/drive\", force_remount=True).\n"
          ],
          "name": "stdout"
        }
      ]
    },
    {
      "cell_type": "markdown",
      "metadata": {
        "id": "D5FgWR3cMMdb"
      },
      "source": [
        "You are provided with two sets of power-trace data. \n",
        "\n",
        "The first set is created using a known key (00 11 22 33 44 55 66 77 88 99 aa bb cc dd ee ff) so that you can use it to test and debug your code. There are two files:\n",
        "*   [plaintext-00112233445566778899aabbccddeeff.txt](https://drive.google.com/file/d/1LkKrftocTM93OvrB_p2d1HxY-L7Iokys/view?usp=sharing) \\\\\n",
        "This is a text file containing 200 traces (one trace per row) of 16 8-bit plaintext numbers. \n",
        "*   [traces-00112233445566778899aabbccddeeff.bin](https://drive.google.com/file/d/1Tu5rZz_iU6aOzn6qN_lMU6Ijud6XGGOz/view?usp=sharing) \\\\\n",
        "This is a binary file that contains 370,000 current measurements for each of the 200 traces. Each measurement is represented as an unsigned 8-bit number.\n",
        "\n",
        "The second set is created using an unknown key and the objective is to find that unknown key. This set has 150 traces. Each trace uses 16 8-bit plaintext numbers and collects 550,000 current measurements.\n",
        "*   [plaintext.txt](https://drive.google.com/file/d/1HQOOfBLN_utQa8oSgw1drNYwPl5o9fOP/view?usp=sharing)\n",
        "*   [traces.bin](https://drive.google.com/file/d/1mLuicDNzyk4OTt6nRQxj9KTDjScYh49f/view?usp=sharing)\n",
        "\n",
        "You are asked to carry out three tasks: \n",
        "1.   Download all these files and re-upload to your colab environment. \n",
        "2.   Utilized the following routines to load these matrices - you only need to show the code for loading the second set.\n",
        "3.   Use plyplot to plot out the current measurements for the first trace from the second set. I have already provided you with the plot but you will need to figure out the code. \n",
        "\n",
        "\n",
        "\n"
      ]
    },
    {
      "cell_type": "code",
      "metadata": {
        "id": "ydMF-3yjk6y0"
      },
      "source": [
        "import numpy as np\n",
        "import matplotlib.pyplot as plt\n",
        "\n",
        "# routine to load plaintext and ciphtext files\n",
        "# return an integer matrix of size numberOfTraces x 16\n",
        "def txtload(fname, numberOfTraces):\n",
        "  blocksize = 16                              # AES block size\n",
        "  fp = open(fname,\"r\")\n",
        "  x  = np.zeros([numberOfTraces,blocksize], dtype=int)\n",
        "  for i in range(numberOfTraces):\n",
        "    l = fp.readline()\n",
        "    x[i,:] = [int(c,16) for c in l.split()]   # convert from hexadecimal string to integer\n",
        "  fp.close()\n",
        "  return x\n",
        "\n",
        "# routine to load the binary current measurement file\n",
        "# return an integer matrix of size numberTraces x traceSize\n",
        "def binload(fname, numberOfTraces, traceSize):\n",
        "  fp = open(fname,\"rb\")\n",
        "  x  = np.fromfile(fp,np.dtype('uint8'),numberOfTraces*traceSize)\n",
        "  x  = x.reshape([numberOfTraces,traceSize])\n",
        "  return x\n",
        "\n",
        "####################\n",
        "# Parameters\n",
        "####################\n",
        "# modify following variables so they correspond your measurement setup\n",
        "\n",
        "#tracefile      = \"/traces.bin\"\n",
        "#plaintextfile  = \"/plaintext.txt\"\n",
        "tracefile      = '/content/traces-00112233445566778899aabbccddeeff.bin'\n",
        "plaintextfile  = '/content/plaintext-00112233445566778899aabbccddeeff.txt'\n",
        "#numberOfTraces = 150\n",
        "#traceSize      = 550000\n",
        "numberOfTraces = 200\n",
        "traceSize      = 370000"
      ],
      "execution_count": null,
      "outputs": []
    },
    {
      "cell_type": "code",
      "metadata": {
        "id": "an9QQ4b6RZAe",
        "colab": {
          "base_uri": "https://localhost:8080/",
          "height": 265
        },
        "outputId": "3604623b-fa66-4aec-c02b-cddcc81c5fb6"
      },
      "source": [
        "####################\n",
        "# LOADING the DATA \n",
        "####################\n",
        "\n",
        "x = txtload(plaintextfile, numberOfTraces)\n",
        "y = binload(tracefile, numberOfTraces, traceSize)\n",
        "\n",
        "####################\n",
        "# Plot the first trace \n",
        "####################\n",
        "data = np.array(range(traceSize))\n",
        "\n",
        "plt.plot(data, y[0])\n",
        "\n",
        "plt.show()"
      ],
      "execution_count": null,
      "outputs": [
        {
          "output_type": "display_data",
          "data": {
            "image/png": "[encoded data removed]",
            "text/plain": [
              "<Figure size 432x288 with 1 Axes>"
            ]
          },
          "metadata": {
            "tags": [],
            "needs_background": "light"
          }
        }
      ]
    },
    {
      "cell_type": "markdown",
      "metadata": {
        "id": "wAZW0AXbRVMH"
      },
      "source": [
        "## Problem 3 (15 points): Power Hypothesis\n",
        "\n",
        "In this problem, you are asked to code up the routine to calculate power hypothesis. Power hypothesis is to use the input plaintext to calculate a quantity that correlates well with the current measurements. In class, we have already discussed that one such quantity is the hamming weight (number of 1's) of output of the SBOX in the first round of AES after the input plaintext number is XORed with the corresponding key value. \n",
        "\n",
        "The `powerHypothesis` routine should take as an input a vector `byteTrace` that corresponds to the plaintext number from each trace at a specific time - more specficially, `byteTrace` will be set to `plaintext[:,i]` where we iterate on the plaintext number from location `i` from all traces. \n",
        "\n",
        "The output of `powerHypothesis` should be a matrix of size `numberOfTraces` x 256. Entry (i,j) of this matrix should be the hamming weight of the SBOX output of the XOR result between the plaintext number at trace i and the candidate key j. \n",
        "\n",
        "To help you get started, I have already prepared the SBOX mapping for you. \n",
        "\n"
      ]
    },
    {
      "cell_type": "code",
      "metadata": {
        "id": "mipaziOsyvZ0"
      },
      "source": [
        "# Declaration of the SBOX\n",
        "\n",
        "SBOX=np.array([99, 124, 119, 123, 242, 107, 111, 197, 48, 1, 103, 43, 254, 215, 171, 118, \n",
        "      202, 130, 201, 125, 250, 89, 71, 240, 173, 212, 162, 175, 156, 164, 114, 192, \n",
        "      183, 253, 147, 38, 54, 63, 247, 204, 52, 165, 229, 241, 113, 216, 49, 21,\n",
        "      4, 199, 35, 195, 24, 150, 5, 154, 7, 18, 128, 226, 235, 39, 178, 117,\n",
        "      9, 131, 44, 26, 27, 110, 90, 160, 82, 59, 214, 179, 41, 227, 47, 132,\n",
        "      83, 209, 0, 237, 32, 252, 177, 91, 106, 203, 190, 57, 74, 76, 88, 207,\n",
        "      208, 239, 170, 251, 67, 77, 51, 133, 69, 249, 2, 127, 80, 60, 159, 168,\n",
        "      81, 163, 64, 143, 146, 157, 56, 245, 188, 182, 218, 33, 16, 255, 243, 210,\n",
        "      205, 12, 19, 236, 95, 151, 68, 23, 196, 167, 126, 61, 100, 93, 25, 115,\n",
        "      96, 129, 79, 220, 34, 42, 144, 136, 70, 238, 184, 20, 222, 94, 11, 219,\n",
        "      224, 50, 58, 10, 73, 6, 36, 92, 194, 211, 172, 98, 145, 149, 228, 121,\n",
        "      231, 200, 55, 109, 141, 213, 78, 169, 108, 86, 244, 234, 101, 122, 174, 8,\n",
        "      186, 120, 37, 46, 28, 166, 180, 198, 232, 221, 116, 31, 75, 189, 139, 138,\n",
        "      112, 62, 181, 102, 72, 3, 246, 14, 97, 53, 87, 185, 134, 193, 29, 158,\n",
        "      225, 248, 152, 17, 105, 217, 142, 148, 155, 30, 135, 233, 206, 85, 40, 223,\n",
        "      140, 161, 137, 13, 191, 230, 66, 104, 65, 153, 45, 15, 176, 84, 187, 22])\n"
      ],
      "execution_count": null,
      "outputs": []
    },
    {
      "cell_type": "code",
      "metadata": {
        "id": "ESkpDQ9Wy8jI"
      },
      "source": [
        "def powerHypothesis(byteTrace):\n",
        "  powerMatrix = np.zeros((numberOfTraces, 256))\n",
        "  for i in range(numberOfTraces):\n",
        "    for j in range(256):\n",
        "      xor = (byteTrace[i] ^ j)\n",
        "      powerMatrix[i][j] = bin(SBOX[xor])[2:].count('1')\n",
        "\n",
        "  return powerMatrix"
      ],
      "execution_count": null,
      "outputs": []
    },
    {
      "cell_type": "markdown",
      "metadata": {
        "id": "78jLSkjXc0A_"
      },
      "source": [
        "## Problem 4 (15 points): Correlation function \n",
        "\n",
        "In this problem, you are asked to write the `mycorr(A,B)` that takes in the `numberOfTraces`x256 matrix `A`, the output of `powerHypothesis`, and the `numberOfTraces`x`traceSize` current measurement matrix `B`, and returns a 256x`traceSize` correlation matrix C. \n",
        "\n",
        "As a reminder, the correlation function is computed as follows:\n",
        "\n",
        "$C(i,j) = \\left| \\frac{(A(:,i)-\\overline{A(:,i)})'\\cdot(B(:,j)-\\overline{B(:,j)})}{\\lVert A(:,i) -\\overline{A(:,i)}\\rVert \\cdot \\lVert B(:,j) - \\overline{B(:,j)}\\rVert} \\right|$\n",
        "\n"
      ]
    },
    {
      "cell_type": "code",
      "metadata": {
        "id": "qc7_5nNTlMES"
      },
      "source": [
        "def mycorr(A,B):\n",
        "  C = np.zeros((256, traceSize))\n",
        "  for i in range(256):\n",
        "    for j in range(traceSize):\n",
        "      topA = np.transpose(A[:,i] - np.mean(A[:,i]))\n",
        "      topB = B[:,j] - np.mean(B[:,j])\n",
        "      top = np.dot(topA, topB)\n",
        "      \n",
        "      bottomA = np.absolute(A[:,i] - np.mean(A[:,i]))\n",
        "      bottomB = np.absolute(B[:,j] - np.mean(B[:,j]))\n",
        "      bottom = np.dot(bottomA, bottomB)\n",
        "      C[i,j] = np.absolute(top / bottom)\n",
        "  "
      ],
      "execution_count": null,
      "outputs": []
    },
    {
      "cell_type": "markdown",
      "metadata": {
        "id": "MWx7LO8te3Qg"
      },
      "source": [
        "## Problem 5 (15 points): Putting everything together\n",
        "\n",
        "Finally, in the last part of the assignment, you can put together both of the previous functions and prouduce the best guesses of the keys and the corresponding timestamps in the current measurement. The sample output on the testset is shown here as an example. "
      ]
    },
    {
      "cell_type": "code",
      "metadata": {
        "id": "4KM6--DRBcds"
      },
      "source": [
        "B = y\n",
        "for i in range(16):\n",
        "  key = -1\n",
        "  trace = -1\n",
        "  A = powerHypothesis(x[:,i])\n",
        "  C = mycorr(A,B)\n",
        "  max = -1\n",
        "  for j in range(256):\n",
        "    for k in range(traceSize):\n",
        "      if(C[j,k] > max):\n",
        "        max = C[j,k]\n",
        "        key = j\n",
        "        trace = k\n",
        "  print(\"Position \" + i + \" - Best key = \" + key + \" - Time stamp = \" + trace)"
      ],
      "execution_count": null,
      "outputs": []
    }
  ]
}